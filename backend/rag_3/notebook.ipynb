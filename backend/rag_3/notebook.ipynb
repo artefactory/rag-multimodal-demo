{
 "cells": [
  {
   "cell_type": "markdown",
   "metadata": {},
   "source": [
    "# RAG Option 3 : PDF ingestion and RAG"
   ]
  },
  {
   "cell_type": "markdown",
   "metadata": {},
   "source": [
    "**Table of contents**<a id='toc0_'></a>    \n",
    "- [Load config](#toc1_)    \n",
    "- [Partition PDF](#toc2_)    \n",
    "  - [Images](#toc2_1_)    \n",
    "  - [Chunking text](#toc2_2_)    \n",
    "  - [Text and tables](#toc2_3_)    \n",
    "- [Summarization](#toc3_)    \n",
    "- [Add elements to retriever](#toc4_)    \n",
    "- [Test retriever](#toc5_)    \n",
    "- [Test RAG chain](#toc6_)    \n",
    "\n",
    "<!-- vscode-jupyter-toc-config\n",
    "\tnumbering=false\n",
    "\tanchor=true\n",
    "\tflat=false\n",
    "\tminLevel=2\n",
    "\tmaxLevel=6\n",
    "\t/vscode-jupyter-toc-config -->\n",
    "<!-- THIS CELL WILL BE REPLACED ON TOC UPDATE. DO NOT WRITE YOUR TEXT IN THIS CELL -->"
   ]
  },
  {
   "cell_type": "code",
   "execution_count": null,
   "metadata": {},
   "outputs": [],
   "source": [
    "%load_ext autoreload\n",
    "%autoreload 2"
   ]
  },
  {
   "cell_type": "code",
   "execution_count": null,
   "metadata": {},
   "outputs": [],
   "source": [
    "import os\n",
    "from pathlib import Path\n",
    "\n",
    "from dotenv import load_dotenv\n",
    "\n",
    "os.chdir(Path.cwd().joinpath(\"../..\"))\n",
    "print(Path.cwd())\n",
    "load_dotenv(override=True)"
   ]
  },
  {
   "cell_type": "code",
   "execution_count": null,
   "metadata": {},
   "outputs": [],
   "source": [
    "import logging\n",
    "import shutil\n",
    "import time\n",
    "from pathlib import Path\n",
    "\n",
    "from hydra import compose, initialize\n",
    "\n",
    "from backend.rag_3 import prompts\n",
    "from backend.rag_3.chain import get_chain\n",
    "from backend.rag_3.config import validate_config\n",
    "from backend.rag_components.elements import convert_documents_to_elements\n",
    "from backend.rag_components.ingest import (\n",
    "    add_elements_to_multivector_retriever,\n",
    "    apply_summarize_image,\n",
    "    apply_summarize_table,\n",
    "    apply_summarize_text,\n",
    ")\n",
    "from backend.rag_components.retriever import get_retriever\n",
    "from backend.rag_components.unstructured import (\n",
    "    load_chunking_func,\n",
    "    load_partition_pdf_func,\n",
    "    select_images,\n",
    "    select_tables,\n",
    "    select_texts,\n",
    ")\n",
    "from backend.utils.utils import format_time_delta\n",
    "\n",
    "logging.basicConfig(format=\"[%(asctime)s] - %(name)s - %(levelname)s - %(message)s\")\n",
    "logging.getLogger(\"backend\").setLevel(logging.INFO)\n",
    "t = time.time()"
   ]
  },
  {
   "cell_type": "code",
   "execution_count": null,
   "metadata": {},
   "outputs": [],
   "source": [
    "N_DISPLAY = 5"
   ]
  },
  {
   "cell_type": "markdown",
   "metadata": {},
   "source": [
    "## <a id='toc1_'></a>[Load config](#toc0_)"
   ]
  },
  {
   "cell_type": "code",
   "execution_count": null,
   "metadata": {},
   "outputs": [],
   "source": [
    "with initialize(config_path=\".\", version_base=None):\n",
    "    config = compose(config_name=\"config\")\n",
    "    print(config)\n",
    "\n",
    "    # validate config\n",
    "    _ = validate_config(config)"
   ]
  },
  {
   "cell_type": "code",
   "execution_count": null,
   "metadata": {},
   "outputs": [],
   "source": [
    "# Folder with pdf and extracted images\n",
    "filename = \"Attention.pdf\"\n",
    "file_path = Path(config.path.docs, filename)\n",
    "print(file_path)"
   ]
  },
  {
   "cell_type": "code",
   "execution_count": null,
   "metadata": {},
   "outputs": [],
   "source": [
    "if config.ingest.clear_database:\n",
    "    database_folder = Path(config.path.database)\n",
    "    print(f\"Clearing database: {database_folder}\")\n",
    "    shutil.rmtree(database_folder, ignore_errors=True)"
   ]
  },
  {
   "cell_type": "markdown",
   "metadata": {},
   "source": [
    "## <a id='toc2_'></a>[Partition PDF](#toc0_)"
   ]
  },
  {
   "cell_type": "code",
   "execution_count": null,
   "metadata": {},
   "outputs": [],
   "source": [
    "t_partition = time.time()\n",
    "\n",
    "# Get elements\n",
    "partition_pdf = load_partition_pdf_func(config)\n",
    "raw_pdf_elements = partition_pdf(filename=file_path)\n",
    "\n",
    "print(f\"Partition time: {format_time_delta(time.time() - t_partition)}\")"
   ]
  },
  {
   "cell_type": "code",
   "execution_count": null,
   "metadata": {},
   "outputs": [],
   "source": [
    "raw_pdf_elements"
   ]
  },
  {
   "cell_type": "markdown",
   "metadata": {},
   "source": [
    "### <a id='toc2_1_'></a>[Images](#toc0_)"
   ]
  },
  {
   "cell_type": "code",
   "execution_count": null,
   "metadata": {},
   "outputs": [],
   "source": [
    "# Get images\n",
    "images = select_images(\n",
    "    raw_pdf_elements,\n",
    "    metadata_keys=config.ingest.metadata_keys,\n",
    "    min_size=config.ingest.image_min_size,\n",
    ")\n",
    "for image in images[:N_DISPLAY]:\n",
    "    display(image)"
   ]
  },
  {
   "cell_type": "markdown",
   "metadata": {},
   "source": [
    "### <a id='toc2_2_'></a>[Chunking text](#toc0_)"
   ]
  },
  {
   "cell_type": "code",
   "execution_count": null,
   "metadata": {},
   "outputs": [],
   "source": [
    "# Get chunks\n",
    "if config.ingest.chunking_enable:\n",
    "    chunk_func = load_chunking_func(config)\n",
    "    chunks = chunk_func(raw_pdf_elements)\n",
    "else:\n",
    "    chunks = raw_pdf_elements\n",
    "chunks"
   ]
  },
  {
   "cell_type": "markdown",
   "metadata": {},
   "source": [
    "### <a id='toc2_3_'></a>[Text and tables](#toc0_)"
   ]
  },
  {
   "cell_type": "code",
   "execution_count": null,
   "metadata": {},
   "outputs": [],
   "source": [
    "# Get text, tables\n",
    "texts = select_texts(\n",
    "    chunks,\n",
    "    metadata_keys=config.ingest.metadata_keys,\n",
    ")\n",
    "tables = select_tables(\n",
    "    chunks,\n",
    "    table_format=config.ingest.table_format,\n",
    "    metadata_keys=config.ingest.metadata_keys,\n",
    "    min_size=config.ingest.table_min_size,\n",
    ")"
   ]
  },
  {
   "cell_type": "code",
   "execution_count": null,
   "metadata": {},
   "outputs": [],
   "source": [
    "for text in texts[:N_DISPLAY]:\n",
    "    display(text)"
   ]
  },
  {
   "cell_type": "code",
   "execution_count": null,
   "metadata": {},
   "outputs": [],
   "source": [
    "for table in tables[:N_DISPLAY]:\n",
    "    display(table)"
   ]
  },
  {
   "cell_type": "markdown",
   "metadata": {},
   "source": [
    "## <a id='toc3_'></a>[Summarization](#toc0_)"
   ]
  },
  {
   "cell_type": "code",
   "execution_count": null,
   "metadata": {},
   "outputs": [],
   "source": [
    "t_summarization = time.time()"
   ]
  },
  {
   "cell_type": "code",
   "execution_count": null,
   "metadata": {},
   "outputs": [],
   "source": [
    "# Summarize text\n",
    "await apply_summarize_text(\n",
    "    text_list=texts,\n",
    "    config=config,\n",
    "    prompt_template=prompts.TEXT_SUMMARIZATION_PROMPT,\n",
    ")\n",
    "for text in texts[:N_DISPLAY]:\n",
    "    display(text)"
   ]
  },
  {
   "cell_type": "code",
   "execution_count": null,
   "metadata": {},
   "outputs": [],
   "source": [
    "# Summarize tables\n",
    "await apply_summarize_table(\n",
    "    table_list=tables,\n",
    "    config=config,\n",
    "    prompt_template=prompts.TABLE_SUMMARIZATION_PROMPT,\n",
    ")\n",
    "for table in tables[:N_DISPLAY]:\n",
    "    display(table)"
   ]
  },
  {
   "cell_type": "code",
   "execution_count": null,
   "metadata": {},
   "outputs": [],
   "source": [
    "# Summarize images\n",
    "await apply_summarize_image(\n",
    "    image_list=images,\n",
    "    config=config,\n",
    "    prompt_template=prompts.IMAGE_SUMMARIZATION_PROMPT,\n",
    ")\n",
    "for image in images[:N_DISPLAY]:\n",
    "    display(image)"
   ]
  },
  {
   "cell_type": "code",
   "execution_count": null,
   "metadata": {},
   "outputs": [],
   "source": [
    "print(f\"Summarization time: {format_time_delta(time.time() - t_summarization)}\")"
   ]
  },
  {
   "cell_type": "markdown",
   "metadata": {},
   "source": [
    "## <a id='toc4_'></a>[Add elements to retriever](#toc0_)"
   ]
  },
  {
   "cell_type": "code",
   "execution_count": null,
   "metadata": {},
   "outputs": [],
   "source": [
    "retriever = get_retriever(config)"
   ]
  },
  {
   "cell_type": "code",
   "execution_count": null,
   "metadata": {},
   "outputs": [],
   "source": [
    "# Add texts to retriever\n",
    "add_elements_to_multivector_retriever(\n",
    "    elements=texts,\n",
    "    retriever=retriever,\n",
    "    vectorstore_source=config.ingest.vectorstore_source.text,\n",
    "    docstore_source=config.ingest.docstore_source.text,\n",
    ")"
   ]
  },
  {
   "cell_type": "code",
   "execution_count": null,
   "metadata": {},
   "outputs": [],
   "source": [
    "# Add tables to retriever\n",
    "add_elements_to_multivector_retriever(\n",
    "    elements=tables,\n",
    "    retriever=retriever,\n",
    "    vectorstore_source=config.ingest.vectorstore_source.table,\n",
    "    docstore_source=config.ingest.docstore_source.table,\n",
    ")"
   ]
  },
  {
   "cell_type": "code",
   "execution_count": null,
   "metadata": {},
   "outputs": [],
   "source": [
    "# Add images to retriever\n",
    "add_elements_to_multivector_retriever(\n",
    "    elements=images,\n",
    "    retriever=retriever,\n",
    "    vectorstore_source=config.ingest.vectorstore_source.image,\n",
    "    docstore_source=config.ingest.docstore_source.image,\n",
    ")"
   ]
  },
  {
   "cell_type": "code",
   "execution_count": null,
   "metadata": {},
   "outputs": [],
   "source": [
    "print(f\"Total ingestion time: {format_time_delta(time.time() - t_partition)}\")"
   ]
  },
  {
   "cell_type": "markdown",
   "metadata": {},
   "source": [
    "## <a id='toc5_'></a>[Test retriever](#toc0_)"
   ]
  },
  {
   "cell_type": "code",
   "execution_count": null,
   "metadata": {},
   "outputs": [],
   "source": [
    "docs = retriever.get_relevant_documents(query=\"Transformer Architecture\")\n",
    "\n",
    "elements = convert_documents_to_elements(docs)\n",
    "for element in elements:\n",
    "    display(element)"
   ]
  },
  {
   "cell_type": "markdown",
   "metadata": {},
   "source": [
    "## <a id='toc6_'></a>[Test RAG chain](#toc0_)"
   ]
  },
  {
   "cell_type": "code",
   "execution_count": null,
   "metadata": {},
   "outputs": [],
   "source": [
    "chain = get_chain(config)\n",
    "t_rag = time.time()"
   ]
  },
  {
   "cell_type": "code",
   "execution_count": null,
   "metadata": {},
   "outputs": [],
   "source": [
    "# Page 3\n",
    "chain.invoke(\"Describe the Transformer architecture\")"
   ]
  },
  {
   "cell_type": "code",
   "execution_count": null,
   "metadata": {},
   "outputs": [],
   "source": [
    "# Page 6\n",
    "chain.invoke(\"What is the complexity of self-attention?\")"
   ]
  },
  {
   "cell_type": "code",
   "execution_count": null,
   "metadata": {},
   "outputs": [],
   "source": [
    "# Page 6\n",
    "chain.invoke(\"Explain the formula of positional encoding\")"
   ]
  },
  {
   "cell_type": "code",
   "execution_count": null,
   "metadata": {},
   "outputs": [],
   "source": [
    "# Page 8\n",
    "chain.invoke(\"What are the BLEU performance of Transformer?\")"
   ]
  },
  {
   "cell_type": "code",
   "execution_count": null,
   "metadata": {},
   "outputs": [],
   "source": [
    "# No mention\n",
    "chain.invoke(\"What are the ROUGE performance of Transformer?\")"
   ]
  },
  {
   "cell_type": "code",
   "execution_count": null,
   "metadata": {},
   "outputs": [],
   "source": [
    "# Page 9\n",
    "chain.invoke(\"Describe the variations of Transformer\")"
   ]
  },
  {
   "cell_type": "code",
   "execution_count": null,
   "metadata": {},
   "outputs": [],
   "source": [
    "# Page 9\n",
    "chain.invoke(\"Between variations A and B, which one is better on PPL?\")"
   ]
  },
  {
   "cell_type": "code",
   "execution_count": null,
   "metadata": {},
   "outputs": [],
   "source": [
    "# Page 10\n",
    "chain.invoke(\"Is Transformer performing well on English constituency parsing?\")"
   ]
  },
  {
   "cell_type": "code",
   "execution_count": null,
   "metadata": {},
   "outputs": [],
   "source": [
    "# Page 13\n",
    "chain.invoke(\"What words are connected to `making` in the weight visualization?\")"
   ]
  },
  {
   "cell_type": "code",
   "execution_count": null,
   "metadata": {},
   "outputs": [],
   "source": [
    "# Page 13\n",
    "chain.invoke(\"Is `governments` connected to `making` in the weight visualization?\")"
   ]
  },
  {
   "cell_type": "code",
   "execution_count": null,
   "metadata": {},
   "outputs": [],
   "source": [
    "# Page 13\n",
    "chain.invoke(\"Is `2009` connected to `making`?\")"
   ]
  },
  {
   "cell_type": "code",
   "execution_count": null,
   "metadata": {},
   "outputs": [],
   "source": [
    "# Page 14\n",
    "chain.invoke(\"What words are associated with `its` in heads 5 and 6?\")"
   ]
  },
  {
   "cell_type": "code",
   "execution_count": null,
   "metadata": {},
   "outputs": [],
   "source": [
    "# Page 14\n",
    "chain.invoke(\n",
    "    \"What word has connection with `its` on only one head (heads between 5 and 6)?\"\n",
    ")"
   ]
  },
  {
   "cell_type": "code",
   "execution_count": null,
   "metadata": {},
   "outputs": [],
   "source": [
    "# Page 14\n",
    "chain.invoke(\n",
    "    \"What word has connection with `its` on only one head (heads between 1 and 4)?\"\n",
    ")"
   ]
  },
  {
   "cell_type": "code",
   "execution_count": null,
   "metadata": {},
   "outputs": [],
   "source": [
    "# Page 14\n",
    "chain.invoke(\"What word has connection with `its` on 2 heads?\")"
   ]
  },
  {
   "cell_type": "code",
   "execution_count": null,
   "metadata": {},
   "outputs": [],
   "source": [
    "print(f\"RAG time: {format_time_delta(time.time() - t_rag)}\")\n",
    "print(f\"Total time: {format_time_delta(time.time() - t)}\")"
   ]
  }
 ],
 "metadata": {
  "kernelspec": {
   "display_name": "rag-multimodal-demo-SErD85uS-py3.10",
   "language": "python",
   "name": "python3"
  },
  "language_info": {
   "codemirror_mode": {
    "name": "ipython",
    "version": 3
   },
   "file_extension": ".py",
   "mimetype": "text/x-python",
   "name": "python",
   "nbconvert_exporter": "python",
   "pygments_lexer": "ipython3",
   "version": "3.10.13"
  }
 },
 "nbformat": 4,
 "nbformat_minor": 2
}
