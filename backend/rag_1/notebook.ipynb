{
 "cells": [
  {
   "cell_type": "markdown",
   "metadata": {},
   "source": [
    "# RAG Option 1 : PDF ingestion and RAG"
   ]
  },
  {
   "cell_type": "markdown",
   "metadata": {},
   "source": [
    "**Table of contents**<a id='toc0_'></a>    \n",
    "- [Load config](#toc1_)    \n",
    "- [Partition PDF](#toc2_)    \n",
    "  - [Images](#toc2_1_)    \n",
    "  - [Chunking text](#toc2_2_)    \n",
    "  - [Text and tables](#toc2_3_)    \n",
    "- [Add elements to vectorstore](#toc3_)    \n",
    "- [Test retriever](#toc4_)    \n",
    "- [Test RAG chain](#toc5_)    \n",
    "\n",
    "<!-- vscode-jupyter-toc-config\n",
    "\tnumbering=false\n",
    "\tanchor=true\n",
    "\tflat=false\n",
    "\tminLevel=2\n",
    "\tmaxLevel=6\n",
    "\t/vscode-jupyter-toc-config -->\n",
    "<!-- THIS CELL WILL BE REPLACED ON TOC UPDATE. DO NOT WRITE YOUR TEXT IN THIS CELL -->"
   ]
  },
  {
   "cell_type": "code",
   "execution_count": null,
   "metadata": {},
   "outputs": [],
   "source": [
    "%load_ext autoreload\n",
    "%autoreload 2"
   ]
  },
  {
   "cell_type": "code",
   "execution_count": null,
   "metadata": {},
   "outputs": [],
   "source": [
    "import os\n",
    "from pathlib import Path\n",
    "\n",
    "from dotenv import load_dotenv\n",
    "\n",
    "os.chdir(Path.cwd().joinpath(\"../..\"))\n",
    "print(Path.cwd())\n",
    "load_dotenv(override=True)"
   ]
  },
  {
   "cell_type": "code",
   "execution_count": null,
   "metadata": {},
   "outputs": [],
   "source": [
    "import logging\n",
    "import shutil\n",
    "import time\n",
    "from pathlib import Path\n",
    "\n",
    "from hydra import compose, initialize\n",
    "\n",
    "from backend.rag_1.chain import get_chain\n",
    "from backend.rag_1.config import validate_config\n",
    "from backend.rag_components.elements import convert_documents_to_elements\n",
    "from backend.rag_components.retriever import get_retriever\n",
    "from backend.rag_components.unstructured import (\n",
    "    load_chunking_func,\n",
    "    load_partition_pdf_func,\n",
    "    select_images,\n",
    "    select_tables,\n",
    "    select_texts,\n",
    ")\n",
    "from backend.rag_components.vectorstore import get_vectorstore\n",
    "from backend.utils.utils import format_time_delta\n",
    "\n",
    "logging.basicConfig(format=\"[%(asctime)s] - %(name)s - %(levelname)s - %(message)s\")\n",
    "logging.getLogger(\"backend\").setLevel(logging.INFO)\n",
    "t = time.time()"
   ]
  },
  {
   "cell_type": "code",
   "execution_count": null,
   "metadata": {},
   "outputs": [],
   "source": [
    "N_DISPLAY = 5"
   ]
  },
  {
   "cell_type": "markdown",
   "metadata": {},
   "source": [
    "## <a id='toc1_'></a>[Load config](#toc0_)"
   ]
  },
  {
   "cell_type": "code",
   "execution_count": null,
   "metadata": {},
   "outputs": [],
   "source": [
    "with initialize(config_path=\".\", version_base=None):\n",
    "    config = compose(config_name=\"config\")\n",
    "    print(config)\n",
    "\n",
    "    # validate config\n",
    "    _ = validate_config(config)"
   ]
  },
  {
   "cell_type": "code",
   "execution_count": null,
   "metadata": {},
   "outputs": [],
   "source": [
    "# Folder with pdf and extracted images\n",
    "filename = \"Attention.pdf\"\n",
    "file_path = Path(config.path.docs, filename)\n",
    "print(file_path)"
   ]
  },
  {
   "cell_type": "code",
   "execution_count": null,
   "metadata": {},
   "outputs": [],
   "source": [
    "if config.ingest.clear_database:\n",
    "    database_folder = Path(config.path.database)\n",
    "    print(f\"Clearing database: {database_folder}\")\n",
    "    shutil.rmtree(database_folder, ignore_errors=True)"
   ]
  },
  {
   "cell_type": "markdown",
   "metadata": {},
   "source": [
    "## <a id='toc2_'></a>[Partition PDF](#toc0_)"
   ]
  },
  {
   "cell_type": "code",
   "execution_count": null,
   "metadata": {},
   "outputs": [],
   "source": [
    "t_partition = time.time()\n",
    "\n",
    "# Get elements\n",
    "partition_pdf = load_partition_pdf_func(config)\n",
    "raw_pdf_elements = partition_pdf(filename=file_path)\n",
    "\n",
    "print(f\"Partition time: {format_time_delta(time.time() - t_partition)}\")"
   ]
  },
  {
   "cell_type": "code",
   "execution_count": null,
   "metadata": {},
   "outputs": [],
   "source": [
    "raw_pdf_elements"
   ]
  },
  {
   "cell_type": "markdown",
   "metadata": {},
   "source": [
    "### <a id='toc2_1_'></a>[Images](#toc0_)"
   ]
  },
  {
   "cell_type": "code",
   "execution_count": null,
   "metadata": {},
   "outputs": [],
   "source": [
    "# Get images\n",
    "images = select_images(\n",
    "    raw_pdf_elements,\n",
    "    metadata_keys=config.ingest.metadata_keys,\n",
    "    min_size=config.ingest.image_min_size,\n",
    ")\n",
    "for image in images[:N_DISPLAY]:\n",
    "    display(image)"
   ]
  },
  {
   "cell_type": "markdown",
   "metadata": {},
   "source": [
    "### <a id='toc2_2_'></a>[Chunking text](#toc0_)"
   ]
  },
  {
   "cell_type": "code",
   "execution_count": null,
   "metadata": {},
   "outputs": [],
   "source": [
    "# Get chunks\n",
    "if config.ingest.chunking_enable:\n",
    "    chunk_func = load_chunking_func(config)\n",
    "    chunks = chunk_func(raw_pdf_elements)\n",
    "else:\n",
    "    chunks = raw_pdf_elements\n",
    "chunks"
   ]
  },
  {
   "cell_type": "markdown",
   "metadata": {},
   "source": [
    "### <a id='toc2_3_'></a>[Text and tables](#toc0_)"
   ]
  },
  {
   "cell_type": "code",
   "execution_count": null,
   "metadata": {},
   "outputs": [],
   "source": [
    "# Get text, tables\n",
    "texts = select_texts(chunks, metadata_keys=config.ingest.metadata_keys)\n",
    "tables = select_tables(\n",
    "    chunks,\n",
    "    table_format=config.ingest.table_format,\n",
    "    metadata_keys=config.ingest.metadata_keys,\n",
    "    min_size=config.ingest.table_min_size,\n",
    ")"
   ]
  },
  {
   "cell_type": "code",
   "execution_count": null,
   "metadata": {},
   "outputs": [],
   "source": [
    "for text in texts[:N_DISPLAY]:\n",
    "    display(text)"
   ]
  },
  {
   "cell_type": "code",
   "execution_count": null,
   "metadata": {},
   "outputs": [],
   "source": [
    "for table in tables[:N_DISPLAY]:\n",
    "    display(table)"
   ]
  },
  {
   "cell_type": "markdown",
   "metadata": {},
   "source": [
    "## <a id='toc3_'></a>[Add elements to vectorstore](#toc0_)"
   ]
  },
  {
   "cell_type": "code",
   "execution_count": null,
   "metadata": {},
   "outputs": [],
   "source": [
    "vectorstore = get_vectorstore(config)"
   ]
  },
  {
   "cell_type": "code",
   "execution_count": null,
   "metadata": {},
   "outputs": [],
   "source": [
    "# Add texts to vectorstore\n",
    "text_contents = [text.get_content() for text in texts]\n",
    "text_metadata = [text.get_metadata() for text in texts]\n",
    "\n",
    "vectorstore.add_texts(\n",
    "    texts=text_contents,\n",
    "    metadatas=text_metadata,\n",
    ")"
   ]
  },
  {
   "cell_type": "code",
   "execution_count": null,
   "metadata": {},
   "outputs": [],
   "source": [
    "# Add tables to vectorstore\n",
    "table_contents = [table.get_content() for table in tables]\n",
    "table_metadata = [table.get_metadata() for table in tables]\n",
    "\n",
    "vectorstore.add_texts(\n",
    "    texts=table_contents,\n",
    "    metadatas=table_metadata,\n",
    ")"
   ]
  },
  {
   "cell_type": "code",
   "execution_count": null,
   "metadata": {},
   "outputs": [],
   "source": [
    "# Add images to vectorstore\n",
    "image_path = [image.get_local_path() for image in images]\n",
    "image_metadata = [image.get_metadata() for image in images]\n",
    "\n",
    "vectorstore.add_images(\n",
    "    uris=image_path,\n",
    "    metadatas=image_metadata,\n",
    ")"
   ]
  },
  {
   "cell_type": "code",
   "execution_count": null,
   "metadata": {},
   "outputs": [],
   "source": [
    "print(f\"Total ingestion time: {format_time_delta(time.time() - t_partition)}\")"
   ]
  },
  {
   "cell_type": "markdown",
   "metadata": {},
   "source": [
    "## <a id='toc4_'></a>[Test retriever](#toc0_)"
   ]
  },
  {
   "cell_type": "code",
   "execution_count": null,
   "metadata": {},
   "outputs": [],
   "source": [
    "retriever = get_retriever(config)"
   ]
  },
  {
   "cell_type": "code",
   "execution_count": null,
   "metadata": {},
   "outputs": [],
   "source": [
    "docs = retriever.get_relevant_documents(query=\"Transformer Architecture\")\n",
    "\n",
    "elements = convert_documents_to_elements(docs)\n",
    "for element in elements:\n",
    "    display(element)"
   ]
  },
  {
   "cell_type": "markdown",
   "metadata": {},
   "source": [
    "## <a id='toc5_'></a>[Test RAG chain](#toc0_)"
   ]
  },
  {
   "cell_type": "code",
   "execution_count": null,
   "metadata": {},
   "outputs": [],
   "source": [
    "chain = get_chain(config)\n",
    "t_rag = time.time()"
   ]
  },
  {
   "cell_type": "code",
   "execution_count": null,
   "metadata": {},
   "outputs": [],
   "source": [
    "# Page 3\n",
    "chain.invoke(\"Describe the Transformer architecture\")"
   ]
  },
  {
   "cell_type": "code",
   "execution_count": null,
   "metadata": {},
   "outputs": [],
   "source": [
    "# Page 6\n",
    "chain.invoke(\"What is the complexity of self-attention?\")"
   ]
  },
  {
   "cell_type": "code",
   "execution_count": null,
   "metadata": {},
   "outputs": [],
   "source": [
    "# Page 6\n",
    "chain.invoke(\"Explain the formula of positional encoding\")"
   ]
  },
  {
   "cell_type": "code",
   "execution_count": null,
   "metadata": {},
   "outputs": [],
   "source": [
    "# Page 8\n",
    "chain.invoke(\"What are the BLEU performance of Transformer?\")"
   ]
  },
  {
   "cell_type": "code",
   "execution_count": null,
   "metadata": {},
   "outputs": [],
   "source": [
    "# No mention\n",
    "chain.invoke(\"What are the ROUGE performance of Transformer?\")"
   ]
  },
  {
   "cell_type": "code",
   "execution_count": null,
   "metadata": {},
   "outputs": [],
   "source": [
    "# Page 9\n",
    "chain.invoke(\"Describe the variations of Transformer\")"
   ]
  },
  {
   "cell_type": "code",
   "execution_count": null,
   "metadata": {},
   "outputs": [],
   "source": [
    "# Page 9\n",
    "chain.invoke(\"Between variations A and B, which one is better on PPL?\")"
   ]
  },
  {
   "cell_type": "code",
   "execution_count": null,
   "metadata": {},
   "outputs": [],
   "source": [
    "# Page 10\n",
    "chain.invoke(\"Is Transformer performing well on English constituency parsing?\")"
   ]
  },
  {
   "cell_type": "code",
   "execution_count": null,
   "metadata": {},
   "outputs": [],
   "source": [
    "# Page 13\n",
    "chain.invoke(\"What words are connected to `making` in the weight visualization?\")"
   ]
  },
  {
   "cell_type": "code",
   "execution_count": null,
   "metadata": {},
   "outputs": [],
   "source": [
    "# Page 13\n",
    "chain.invoke(\"Is `governments` connected to `making` in the weight visualization?\")"
   ]
  },
  {
   "cell_type": "code",
   "execution_count": null,
   "metadata": {},
   "outputs": [],
   "source": [
    "# Page 13\n",
    "chain.invoke(\"Is `2009` connected to `making`?\")"
   ]
  },
  {
   "cell_type": "code",
   "execution_count": null,
   "metadata": {},
   "outputs": [],
   "source": [
    "# Page 14\n",
    "chain.invoke(\"What words are associated with `its` in heads 5 and 6?\")"
   ]
  },
  {
   "cell_type": "code",
   "execution_count": null,
   "metadata": {},
   "outputs": [],
   "source": [
    "# Page 14\n",
    "chain.invoke(\n",
    "    \"What word has connection with `its` on only one head (heads between 5 and 6)?\"\n",
    ")"
   ]
  },
  {
   "cell_type": "code",
   "execution_count": null,
   "metadata": {},
   "outputs": [],
   "source": [
    "# Page 14\n",
    "chain.invoke(\n",
    "    \"What word has connection with `its` on only one head (heads between 1 and 4)?\"\n",
    ")"
   ]
  },
  {
   "cell_type": "code",
   "execution_count": null,
   "metadata": {},
   "outputs": [],
   "source": [
    "# Page 14\n",
    "chain.invoke(\"What word has connection with `its` on 2 heads?\")"
   ]
  },
  {
   "cell_type": "code",
   "execution_count": null,
   "metadata": {},
   "outputs": [],
   "source": [
    "print(f\"RAG time: {format_time_delta(time.time() - t_rag)}\")\n",
    "print(f\"Total time: {format_time_delta(time.time() - t)}\")"
   ]
  }
 ],
 "metadata": {
  "kernelspec": {
   "display_name": "rag-multimodal-demo-SErD85uS-py3.10",
   "language": "python",
   "name": "python3"
  },
  "language_info": {
   "codemirror_mode": {
    "name": "ipython",
    "version": 3
   },
   "file_extension": ".py",
   "mimetype": "text/x-python",
   "name": "python",
   "nbconvert_exporter": "python",
   "pygments_lexer": "ipython3",
   "version": "3.10.13"
  }
 },
 "nbformat": 4,
 "nbformat_minor": 2
}
